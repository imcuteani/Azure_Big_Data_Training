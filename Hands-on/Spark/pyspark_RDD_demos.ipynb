{
 "cells": [
  {
   "cell_type": "code",
   "execution_count": 1,
   "id": "0f9ce32e",
   "metadata": {},
   "outputs": [
    {
     "name": "stdout",
     "output_type": "stream",
     "text": [
      "Python,100000\n"
     ]
    }
   ],
   "source": [
    "from pyspark.sql import Row\n",
    "row=Row(\"Python\",100000)\n",
    "print(row[0] + \",\" + str(row[1]))"
   ]
  },
  {
   "cell_type": "code",
   "execution_count": 2,
   "id": "9d3e9a51",
   "metadata": {},
   "outputs": [
    {
     "name": "stdout",
     "output_type": "stream",
     "text": [
      "Alan\n"
     ]
    }
   ],
   "source": [
    "row=Row(name=\"Alan\", age=10)\n",
    "print(row.name)"
   ]
  },
  {
   "cell_type": "code",
   "execution_count": 4,
   "id": "4236e9bf",
   "metadata": {},
   "outputs": [
    {
     "name": "stdout",
     "output_type": "stream",
     "text": [
      "22/10/28 13:05:31 WARN Utils: Your hostname, hadoop resolves to a loopback address: 127.0.1.1; using 192.168.242.137 instead (on interface ens33)\n",
      "22/10/28 13:05:31 WARN Utils: Set SPARK_LOCAL_IP if you need to bind to another address\n"
     ]
    },
    {
     "name": "stderr",
     "output_type": "stream",
     "text": [
      "Setting default log level to \"WARN\".\n",
      "To adjust logging level use sc.setLogLevel(newLevel). For SparkR, use setLogLevel(newLevel).\n"
     ]
    },
    {
     "name": "stdout",
     "output_type": "stream",
     "text": [
      "22/10/28 13:05:34 WARN NativeCodeLoader: Unable to load native-hadoop library for your platform... using builtin-java classes where applicable\n",
      "22/10/28 13:05:37 WARN Utils: Service 'SparkUI' could not bind on port 4040. Attempting port 4041.\n"
     ]
    }
   ],
   "source": [
    "from pyspark.sql import SparkSession,Row\n",
    "spark = SparkSession.builder.appName('CG Spark demo').getOrCreate()"
   ]
  },
  {
   "cell_type": "code",
   "execution_count": 5,
   "id": "24d89e3f",
   "metadata": {},
   "outputs": [
    {
     "name": "stderr",
     "output_type": "stream",
     "text": [
      "[Stage 0:>                                                          (0 + 4) / 4]\r"
     ]
    },
    {
     "name": "stdout",
     "output_type": "stream",
     "text": [
      "[Row(name='Robert,,Smith', lang=['java', 'scala', 'C++'], state='CA'), Row(name='Michael,Rose', lang=['Spark', 'Java', 'C++'], state='NY'), Row(name='James,,Williams', lang=['CSharp', 'VB'], state='NV')]\n"
     ]
    },
    {
     "name": "stderr",
     "output_type": "stream",
     "text": [
      "                                                                                \r"
     ]
    }
   ],
   "source": [
    "\n",
    "data = [Row(name=\"Robert,,Smith\",lang=[\"java\",\"scala\",\"C++\"],state=\"CA\"),\n",
    "       Row(name=\"Michael,Rose\", lang=[\"Spark\",\"Java\",\"C++\"],state=\"NY\"),\n",
    "       Row(name=\"James,,Williams\",lang=[\"CSharp\",\"VB\"],state=\"NV\")]\n",
    "rdd=spark.sparkContext.parallelize(data)\n",
    "print(rdd.collect())"
   ]
  },
  {
   "cell_type": "code",
   "execution_count": 6,
   "id": "12a74833",
   "metadata": {},
   "outputs": [
    {
     "name": "stdout",
     "output_type": "stream",
     "text": [
      "Robert,,Smith,['java', 'scala', 'C++']\n",
      "Michael,Rose,['Spark', 'Java', 'C++']\n",
      "James,,Williams,['CSharp', 'VB']\n"
     ]
    }
   ],
   "source": [
    "colData = rdd.collect()\n",
    "for row in colData: \n",
    "    print(row.name + \",\" +str(row.lang))"
   ]
  },
  {
   "cell_type": "code",
   "execution_count": 7,
   "id": "57cc3683",
   "metadata": {},
   "outputs": [],
   "source": [
    "# Column Class in PySpark\n",
    "from pyspark.sql.functions import lit\n",
    "colObj = lit(\"CG Pyspark Dataframe demo\")"
   ]
  },
  {
   "cell_type": "code",
   "execution_count": 9,
   "id": "4ff6902b",
   "metadata": {},
   "outputs": [
    {
     "name": "stdout",
     "output_type": "stream",
     "text": [
      "root\n",
      " |-- name.fname: string (nullable = true)\n",
      " |-- age: long (nullable = true)\n",
      "\n",
      "+---+\n",
      "|age|\n",
      "+---+\n",
      "| 10|\n",
      "| 25|\n",
      "+---+\n",
      "\n",
      "+---+\n",
      "|age|\n",
      "+---+\n",
      "| 10|\n",
      "| 25|\n",
      "+---+\n",
      "\n",
      "+----------+\n",
      "|name.fname|\n",
      "+----------+\n",
      "|       Ann|\n",
      "|      Matt|\n",
      "+----------+\n",
      "\n",
      "+---+\n",
      "|age|\n",
      "+---+\n",
      "| 10|\n",
      "| 25|\n",
      "+---+\n",
      "\n",
      "+----------+\n",
      "|name.fname|\n",
      "+----------+\n",
      "|       Ann|\n",
      "|      Matt|\n",
      "+----------+\n",
      "\n"
     ]
    }
   ],
   "source": [
    "data=[(\"Ann\", 10),(\"Matt\",25)]\n",
    "df = spark.createDataFrame(data).toDF(\"name.fname\",\"age\")\n",
    "df.printSchema()\n",
    "df.select(df.age).show()\n",
    "df.select(df[\"age\"]).show()\n",
    "df.select(df[\"`name.fname`\"]).show()\n",
    "#Using SQL col() function\n",
    "\n",
    "from pyspark.sql.functions import col\n",
    "df.select(col(\"age\")).show()\n",
    "df.select(col(\"`name.fname`\")).show()"
   ]
  },
  {
   "cell_type": "code",
   "execution_count": 20,
   "id": "bb4de48d",
   "metadata": {},
   "outputs": [],
   "source": [
    "import pyspark\n",
    "from pyspark.sql import SparkSession\n",
    "from pyspark.sql.functions import approx_count_distinct,collect_list\n",
    "from pyspark.sql.functions import collect_set,sum,avg,max,countDistinct,count"
   ]
  },
  {
   "cell_type": "code",
   "execution_count": 21,
   "id": "5d0ab12e",
   "metadata": {},
   "outputs": [
    {
     "name": "stdout",
     "output_type": "stream",
     "text": [
      "root\n",
      " |-- emp_name: string (nullable = true)\n",
      " |-- dept: string (nullable = true)\n",
      " |-- salary: long (nullable = true)\n",
      "\n",
      "+--------+---------+------+\n",
      "|emp_name|dept     |salary|\n",
      "+--------+---------+------+\n",
      "|Matt    |Sales    |4000  |\n",
      "|Michael |Marketing|2000  |\n",
      "|Maria   |Finance  |1000  |\n",
      "|Scott   |Finance  |5000  |\n",
      "|Jeff    |Sales    |6000  |\n",
      "+--------+---------+------+\n",
      "\n"
     ]
    }
   ],
   "source": [
    "# Pyspark SQL Aggregate Function\n",
    "simpleData = [(\"Matt\",\"Sales\",4000),\n",
    "             (\"Michael\",\"Marketing\",2000),\n",
    "             (\"Maria\",\"Finance\",1000),\n",
    "             (\"Scott\",\"Finance\",5000),\n",
    "             (\"Jeff\",\"Sales\", 6000)]\n",
    "schema = [\"emp_name\", \"dept\", \"salary\"]\n",
    "df = spark.createDataFrame(data=simpleData, schema = schema)\n",
    "df.printSchema()\n",
    "df.show(truncate=False)"
   ]
  },
  {
   "cell_type": "code",
   "execution_count": 22,
   "id": "2aa392aa",
   "metadata": {},
   "outputs": [
    {
     "name": "stdout",
     "output_type": "stream",
     "text": [
      "approx_count_distinct:4\n"
     ]
    }
   ],
   "source": [
    "## approx_count_distinct\n",
    "print(\"approx_count_distinct:\" + \\\n",
    "     str(df.select(approx_count_distinct(\"salary\")).collect()[0][0]))"
   ]
  },
  {
   "cell_type": "code",
   "execution_count": 16,
   "id": "4ecc8d4f",
   "metadata": {},
   "outputs": [
    {
     "name": "stderr",
     "output_type": "stream",
     "text": [
      "[Stage 26:==============>                                           (1 + 3) / 4]\r"
     ]
    },
    {
     "name": "stdout",
     "output_type": "stream",
     "text": [
      "+------------------------------+\n",
      "|collect_list(salary)          |\n",
      "+------------------------------+\n",
      "|[4000, 2000, 1000, 5000, 6000]|\n",
      "+------------------------------+\n",
      "\n"
     ]
    },
    {
     "name": "stderr",
     "output_type": "stream",
     "text": [
      "                                                                                \r"
     ]
    }
   ],
   "source": [
    "# approx_count_distinct()\n",
    "df.select(collect_list(\"salary\")).show(truncate=False)"
   ]
  },
  {
   "cell_type": "code",
   "execution_count": 23,
   "id": "069ad496",
   "metadata": {},
   "outputs": [
    {
     "name": "stdout",
     "output_type": "stream",
     "text": [
      "avg:3600.0\n"
     ]
    }
   ],
   "source": [
    "print(\"avg:\" + str(df.select(avg(\"salary\")).collect()[0][0]))"
   ]
  },
  {
   "cell_type": "code",
   "execution_count": null,
   "id": "8ce6b3bc",
   "metadata": {},
   "outputs": [],
   "source": []
  }
 ],
 "metadata": {
  "kernelspec": {
   "display_name": "Python 3 (ipykernel)",
   "language": "python",
   "name": "python3"
  },
  "language_info": {
   "codemirror_mode": {
    "name": "ipython",
    "version": 3
   },
   "file_extension": ".py",
   "mimetype": "text/x-python",
   "name": "python",
   "nbconvert_exporter": "python",
   "pygments_lexer": "ipython3",
   "version": "3.9.13"
  }
 },
 "nbformat": 4,
 "nbformat_minor": 5
}

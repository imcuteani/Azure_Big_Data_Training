{
 "cells": [
  {
   "cell_type": "code",
   "execution_count": 3,
   "id": "4aa2b939",
   "metadata": {},
   "outputs": [],
   "source": [
    "from pyspark.sql import SparkSession"
   ]
  },
  {
   "cell_type": "code",
   "execution_count": 4,
   "id": "2d8a01d1",
   "metadata": {},
   "outputs": [
    {
     "name": "stdout",
     "output_type": "stream",
     "text": [
      "22/10/28 15:54:35 WARN Utils: Your hostname, hadoop resolves to a loopback address: 127.0.1.1; using 192.168.242.137 instead (on interface ens33)\n",
      "22/10/28 15:54:35 WARN Utils: Set SPARK_LOCAL_IP if you need to bind to another address\n"
     ]
    },
    {
     "name": "stderr",
     "output_type": "stream",
     "text": [
      "Setting default log level to \"WARN\".\n",
      "To adjust logging level use sc.setLogLevel(newLevel). For SparkR, use setLogLevel(newLevel).\n"
     ]
    },
    {
     "name": "stdout",
     "output_type": "stream",
     "text": [
      "22/10/28 15:54:36 WARN NativeCodeLoader: Unable to load native-hadoop library for your platform... using builtin-java classes where applicable\n",
      "22/10/28 15:54:39 WARN Utils: Service 'SparkUI' could not bind on port 4040. Attempting port 4041.\n",
      "root\n",
      " |-- emp_name: string (nullable = true)\n",
      " |-- dept: string (nullable = true)\n",
      " |-- salary: long (nullable = true)\n",
      "\n"
     ]
    },
    {
     "name": "stderr",
     "output_type": "stream",
     "text": [
      "                                                                                \r"
     ]
    },
    {
     "name": "stdout",
     "output_type": "stream",
     "text": [
      "+--------+---------+------+\n",
      "|emp_name|dept     |salary|\n",
      "+--------+---------+------+\n",
      "|Matt    |Sales    |4000  |\n",
      "|Michael |Marketing|2000  |\n",
      "|Maria   |Finance  |4000  |\n",
      "|Scott   |Sales    |3300  |\n",
      "|Jen     |IT       |4500  |\n",
      "+--------+---------+------+\n",
      "\n"
     ]
    }
   ],
   "source": [
    "spark = SparkSession.builder.appName('CG Pyspark demo').getOrCreate()\n",
    "sampleData = ((\"Matt\", \"Sales\",4000),\\\n",
    "             (\"Michael\",\"Marketing\",2000),\\\n",
    "             (\"Maria\",\"Finance\", 4000),\\\n",
    "             (\"Scott\",\"Sales\",3300),\\\n",
    "             (\"Jen\",\"IT\",4500))\n",
    "columns = [\"emp_name\",\"dept\",\"salary\"]\n",
    "df = spark.createDataFrame(data = sampleData, schema = columns)\n",
    "df.printSchema()\n",
    "df.show(truncate=False)"
   ]
  },
  {
   "cell_type": "code",
   "execution_count": 6,
   "id": "a099a67b",
   "metadata": {},
   "outputs": [
    {
     "name": "stdout",
     "output_type": "stream",
     "text": [
      "+--------+---------+------+----------+\n",
      "|emp_name|dept     |salary|row_number|\n",
      "+--------+---------+------+----------+\n",
      "|Maria   |Finance  |4000  |1         |\n",
      "|Jen     |IT       |4500  |1         |\n",
      "|Michael |Marketing|2000  |1         |\n",
      "|Scott   |Sales    |3300  |1         |\n",
      "|Matt    |Sales    |4000  |2         |\n",
      "+--------+---------+------+----------+\n",
      "\n"
     ]
    }
   ],
   "source": [
    "from pyspark.sql.window import Window\n",
    "from pyspark.sql.functions import row_number\n",
    "windowSpec = Window.partitionBy(\"dept\").orderBy(\"Salary\")\n",
    "df.withColumn(\"row_number\",row_number().over(windowSpec)).show(truncate=False)"
   ]
  },
  {
   "cell_type": "code",
   "execution_count": 7,
   "id": "a62ef324",
   "metadata": {},
   "outputs": [
    {
     "name": "stdout",
     "output_type": "stream",
     "text": [
      "+--------+---------+------+----+\n",
      "|emp_name|     dept|salary|rank|\n",
      "+--------+---------+------+----+\n",
      "|   Maria|  Finance|  4000|   1|\n",
      "|     Jen|       IT|  4500|   1|\n",
      "| Michael|Marketing|  2000|   1|\n",
      "|   Scott|    Sales|  3300|   1|\n",
      "|    Matt|    Sales|  4000|   2|\n",
      "+--------+---------+------+----+\n",
      "\n"
     ]
    }
   ],
   "source": [
    "## Rank function\n",
    "from pyspark.sql.functions import rank\n",
    "df.withColumn(\"rank\",rank().over(windowSpec)).show()"
   ]
  },
  {
   "cell_type": "code",
   "execution_count": 9,
   "id": "d94d6843",
   "metadata": {},
   "outputs": [
    {
     "name": "stdout",
     "output_type": "stream",
     "text": [
      "+--------+---------+------+----------+\n",
      "|emp_name|     dept|salary|dense_rank|\n",
      "+--------+---------+------+----------+\n",
      "|   Maria|  Finance|  4000|         1|\n",
      "|     Jen|       IT|  4500|         1|\n",
      "| Michael|Marketing|  2000|         1|\n",
      "|   Scott|    Sales|  3300|         1|\n",
      "|    Matt|    Sales|  4000|         2|\n",
      "+--------+---------+------+----------+\n",
      "\n"
     ]
    }
   ],
   "source": [
    "from pyspark.sql.functions import dense_rank\n",
    "df.withColumn(\"dense_rank\", dense_rank().over(windowSpec)).show()"
   ]
  },
  {
   "cell_type": "code",
   "execution_count": null,
   "id": "b8af4930",
   "metadata": {},
   "outputs": [],
   "source": []
  }
 ],
 "metadata": {
  "kernelspec": {
   "display_name": "Python 3 (ipykernel)",
   "language": "python",
   "name": "python3"
  },
  "language_info": {
   "codemirror_mode": {
    "name": "ipython",
    "version": 3
   },
   "file_extension": ".py",
   "mimetype": "text/x-python",
   "name": "python",
   "nbconvert_exporter": "python",
   "pygments_lexer": "ipython3",
   "version": "3.9.13"
  }
 },
 "nbformat": 4,
 "nbformat_minor": 5
}
